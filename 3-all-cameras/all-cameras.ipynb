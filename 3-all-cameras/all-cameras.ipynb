{
 "cells": [
  {
   "cell_type": "markdown",
   "metadata": {},
   "source": [
    "# DepthAI - Show data from All Cameras\n",
    "\n",
    "This notebook will demonstrate how to read frames from the rgb camera and the two depth cameras."
   ]
  },
  {
   "cell_type": "code",
   "execution_count": null,
   "metadata": {},
   "outputs": [],
   "source": [
    "# These modules are for DepthAI.\n",
    "import blobconverter\n",
    "import cv2\n",
    "import depthai\n",
    "import numpy as np"
   ]
  },
  {
   "cell_type": "code",
   "execution_count": null,
   "metadata": {},
   "outputs": [],
   "source": [
    "# These modules will enable us to build a simple event driven UI in the Jupyter notebook.\n",
    "import ipywidgets as widgets\n",
    "import threading\n",
    "from IPython.display import display, Image"
   ]
  },
  {
   "cell_type": "code",
   "execution_count": null,
   "metadata": {},
   "outputs": [],
   "source": [
    "# Create a pipeline that tells DepthAI what operations to perform while running.\n",
    "pipeline = depthai.Pipeline()\n",
    "assert pipeline is not None"
   ]
  },
  {
   "cell_type": "code",
   "execution_count": null,
   "metadata": {},
   "outputs": [],
   "source": [
    "# Add the color camera node to the pipeline.\n",
    "colorCamera = pipeline.createColorCamera()\n",
    "assert colorCamera is not None\n",
    "# This frame will be available as the 'preview' output of the node.\n",
    "colorCamera.setPreviewSize(640, 480)  \n",
    "colorCamera.setInterleaved(False)"
   ]
  },
  {
   "cell_type": "code",
   "execution_count": null,
   "metadata": {},
   "outputs": [],
   "source": [
    "# Add the left camera\n",
    "leftCamera = pipeline.create(depthai.node.MonoCamera)\n",
    "assert leftCamera is not None\n",
    "leftCamera.setBoardSocket(depthai.CameraBoardSocket.LEFT)\n",
    "leftCamera.setResolution(depthai.MonoCameraProperties.SensorResolution.THE_480_P)"
   ]
  },
  {
   "cell_type": "code",
   "execution_count": null,
   "metadata": {},
   "outputs": [],
   "source": [
    "# Add the right camera\n",
    "rightCamera = pipeline.create(depthai.node.MonoCamera)\n",
    "assert rightCamera is not None\n",
    "rightCamera.setBoardSocket(depthai.CameraBoardSocket.RIGHT)\n",
    "rightCamera.setResolution(depthai.MonoCameraProperties.SensorResolution.THE_480_P)"
   ]
  },
  {
   "cell_type": "code",
   "execution_count": null,
   "metadata": {},
   "outputs": [],
   "source": [
    "# XLinkOut is a \"way out\" from the device. Any data you want to transfer to host need to be send via XLink.\n",
    "xoutRgb = pipeline.createXLinkOut()\n",
    "assert xoutRgb is not None\n",
    "xoutRgb.setStreamName(\"rgb\")\n",
    "\n",
    "xoutLeft = pipeline.createXLinkOut()\n",
    "assert xoutLeft is not None\n",
    "xoutLeft.setStreamName(\"left\")\n",
    "\n",
    "xoutRight = pipeline.createXLinkOut()\n",
    "assert xoutRight is not None\n",
    "xoutRight.setStreamName(\"right\")\n",
    "\n",
    "# Linking camera output to XLink input, so that the frames will be sent to host.\n",
    "colorCamera.preview.link(xoutRgb.input)\n",
    "leftCamera.out.link(xoutLeft.input)\n",
    "rightCamera.out.link(xoutRight.input)"
   ]
  },
  {
   "cell_type": "markdown",
   "metadata": {},
   "source": [
    "### The Pipeline is now fully constructed."
   ]
  },
  {
   "cell_type": "code",
   "execution_count": null,
   "metadata": {},
   "outputs": [],
   "source": [
    "# Create a function to be called in the thread that will be created in the next notebook cell.\n",
    "def showVideo(button):\n",
    "\n",
    "    # ask the device to run the pipeline.\n",
    "    with depthai.Device(pipeline) as device:\n",
    "\n",
    "        # From this point, the Device will be in \"running\" mode and will start sending data via XLink.\n",
    "        queueRgb = device.getOutputQueue(name=\"rgb\")\n",
    "        queueLeft = device.getOutputQueue(name=\"left\", maxSize=4, blocking=False)\n",
    "        queueRight = device.getOutputQueue(name=\"right\", maxSize=4, blocking=False)\n",
    "\n",
    "        frameRgb = None\n",
    "        frameLeft = None\n",
    "        frameRight = None  \n",
    "\n",
    "        (width, height) = (640, 480)\n",
    "        \n",
    "        div = 2\n",
    "        fw = int(width / div)\n",
    "        fh = int(height / div)\n",
    "\n",
    "        # Main host-side application loop\n",
    "        while True:\n",
    "\n",
    "            # we try to fetch the data from nn/rgb queues.\n",
    "            # tryGet() will return either the data packet or None if there isn't any.\n",
    "            inRgb = queueRgb.tryGet()\n",
    "            inLeft = queueLeft.tryGet()\n",
    "            inRight = queueRight.tryGet()\n",
    "\n",
    "            if inRgb is not None:\n",
    "                # If the packet from RGB camera is present,\n",
    "                # we're retrieving the frame in OpenCV format using getCvFrame().\n",
    "                frameRgb = inRgb.getCvFrame()\n",
    "                #print(frameRgb.shape)\n",
    "                frameRgb = cv2.resize(frameRgb, (fw, fh))\n",
    "\n",
    "            if inLeft is not None:\n",
    "                frameLeft = inLeft.getCvFrame()\n",
    "                assert frameLeft is not None\n",
    "                #print(frameLeft.shape)\n",
    "                frameLeft = cv2.resize(frameLeft, (fw, fh))\n",
    "                frameLeft = cv2.cvtColor(frameLeft, cv2.COLOR_GRAY2BGR)\n",
    "\n",
    "            if inRight is not None:\n",
    "                frameRight = inRight.getCvFrame()\n",
    "                assert frameRight is not None\n",
    "                #print(frameRight.shape)\n",
    "                frameRight = cv2.resize(frameRight, (fw, fh))\n",
    "                frameRight = cv2.cvtColor(frameRight, cv2.COLOR_GRAY2BGR)\n",
    "\n",
    "            # Now we have three identically sized frames, show them side by side.\n",
    "            if frameRgb is not None and frameLeft is not None and frameRight is not None:\n",
    "                frame = np.concatenate((frameLeft, frameRgb, frameRight), axis=1)\n",
    "                _, jpg = cv2.imencode('.jpeg', frame)\n",
    "                display_handle.update(Image(data=jpg.tobytes()))\n",
    "\n",
    "            # Exit the loop if the user presses 'Stop'.\n",
    "            if stopButton.value==True:\n",
    "                break"
   ]
  },
  {
   "cell_type": "code",
   "execution_count": null,
   "metadata": {},
   "outputs": [],
   "source": [
    "# Define the button widget.\n",
    "stopButton = widgets.ToggleButton(\n",
    "    value=False,\n",
    "    description='Stop',\n",
    "    disabled=False,\n",
    "    button_style='danger',\n",
    "    tooltip='Stop the Video',\n",
    "    icon='square'\n",
    ")\n",
    "\n",
    "# Initialize the display window.\n",
    "display_handle=display(None, display_id=True)\n",
    "# Display the 'Stop' button.\n",
    "display(stopButton)\n",
    "# Create a thread that calls the showVideo() function above.\n",
    "thread = threading.Thread(target=showVideo, args=(stopButton,))\n",
    "thread.start()"
   ]
  }
 ],
 "metadata": {
  "kernelspec": {
   "display_name": "Python 3 (ipykernel)",
   "language": "python",
   "name": "python3"
  },
  "language_info": {
   "codemirror_mode": {
    "name": "ipython",
    "version": 3
   },
   "file_extension": ".py",
   "mimetype": "text/x-python",
   "name": "python",
   "nbconvert_exporter": "python",
   "pygments_lexer": "ipython3",
   "version": "3.9.10"
  }
 },
 "nbformat": 4,
 "nbformat_minor": 2
}
