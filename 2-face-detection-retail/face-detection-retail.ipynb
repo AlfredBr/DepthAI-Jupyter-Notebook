{
 "cells": [
  {
   "cell_type": "markdown",
   "id": "e4ab7e97",
   "metadata": {},
   "source": [
    "# DepthAI - Face Detection\n",
    "\n",
    "This notebook will read and display frames from the rgb camera and a face detecting neural network."
   ]
  },
  {
   "cell_type": "code",
   "execution_count": null,
   "id": "6bdb4240",
   "metadata": {},
   "outputs": [],
   "source": [
    "from pathlib import Path\n",
    "import cv2\n",
    "import depthai\n",
    "import numpy as np"
   ]
  },
  {
   "cell_type": "code",
   "execution_count": null,
   "id": "0c02127b",
   "metadata": {},
   "outputs": [],
   "source": [
    "# these modules will enable us to build a simple event driven UI in the Jupyter notebook\n",
    "import ipywidgets as widgets\n",
    "import threading\n",
    "from IPython.display import display, Image"
   ]
  },
  {
   "cell_type": "code",
   "execution_count": null,
   "id": "d4b9d493",
   "metadata": {},
   "outputs": [],
   "source": [
    "pipeline = depthai.Pipeline()"
   ]
  },
  {
   "cell_type": "code",
   "execution_count": null,
   "id": "010003fc",
   "metadata": {},
   "outputs": [],
   "source": [
    "cam_rgb = pipeline.createColorCamera()\n",
    "cam_rgb.setPreviewSize(300, 300)\n",
    "cam_rgb.setInterleaved(False)"
   ]
  },
  {
   "cell_type": "code",
   "execution_count": null,
   "id": "23f4e314",
   "metadata": {},
   "outputs": [],
   "source": [
    "detection_nn = pipeline.createMobileNetDetectionNetwork()\n",
    "blobPath = str(Path('./face-detection-retail-0004.blob').resolve().absolute())\n",
    "print(\"blobPath =\",blobPath)\n",
    "detection_nn.setBlobPath(blobPath)\n",
    "detection_nn.setConfidenceThreshold(0.5)\n",
    "cam_rgb.preview.link(detection_nn.input)\n",
    "\n",
    "xout_rgb = pipeline.createXLinkOut()\n",
    "xout_rgb.setStreamName(\"rgb\")\n",
    "cam_rgb.preview.link(xout_rgb.input)\n",
    "\n",
    "xout_nn = pipeline.createXLinkOut()\n",
    "xout_nn.setStreamName(\"nn\")\n",
    "detection_nn.out.link(xout_nn.input)"
   ]
  },
  {
   "cell_type": "code",
   "execution_count": null,
   "id": "586d33be",
   "metadata": {},
   "outputs": [],
   "source": [
    "# Pipeline is now finished, and we need to find an available device to run our pipeline\n",
    "# we are using context manager here that will dispose the device after we stop using it\n",
    "def showVideo(button):\n",
    "    with depthai.Device(pipeline) as device:\n",
    "        q_rgb = device.getOutputQueue(\"rgb\")\n",
    "        q_nn = device.getOutputQueue(\"nn\")\n",
    "\n",
    "        frame = None\n",
    "        detections = []\n",
    "\n",
    "        def frameNorm(frame, bbox):\n",
    "            normVals = np.full(len(bbox), frame.shape[0])\n",
    "            normVals[::2] = frame.shape[1]\n",
    "            return (np.clip(np.array(bbox), 0, 1) * normVals).astype(int)\n",
    "\n",
    "        while True:\n",
    "            in_rgb = q_rgb.tryGet()\n",
    "            in_nn = q_nn.tryGet()\n",
    "\n",
    "            if in_rgb is not None:\n",
    "                frame = in_rgb.getCvFrame()\n",
    "\n",
    "            if in_nn is not None:\n",
    "                detections = in_nn.detections\n",
    "\n",
    "            if frame is not None:\n",
    "                for detection in detections:\n",
    "                    bbox = frameNorm(frame, (detection.xmin, detection.ymin, detection.xmax, detection.ymax))\n",
    "                    cv2.rectangle(frame, (bbox[0], bbox[1]), (bbox[2], bbox[3]), (255, 0, 0), 2)\n",
    "                \n",
    "                # convert the frame from a OpenCV numpy array to a jpeg \n",
    "                # so that we can display it in the Jupyter notebook.\n",
    "                _, jpg = cv2.imencode('.jpeg', frame)\n",
    "                \n",
    "                # show the frame on the screen.\n",
    "                display_handle.update(Image(data=jpg.tobytes()))\n",
    "                \n",
    "                # exit the infinite loop if the 'Stop' button is pressed.\n",
    "                if stopButton.value==True:\n",
    "                    break"
   ]
  },
  {
   "cell_type": "code",
   "execution_count": null,
   "id": "1c721c1f",
   "metadata": {},
   "outputs": [],
   "source": [
    "# define the button widget\n",
    "stopButton = widgets.ToggleButton(\n",
    "    value=False,\n",
    "    description='Stop',\n",
    "    disabled=False,\n",
    "    button_style='danger',\n",
    "    tooltip='Stop the Video',\n",
    "    icon='square'\n",
    ")\n",
    "\n",
    "# initialize the display window\n",
    "display_handle=display(None, display_id=True)\n",
    "# display the stop button\n",
    "display(stopButton)\n",
    "# create a thread that calls the showVideo() function above\n",
    "thread = threading.Thread(target=showVideo, args=(stopButton,))\n",
    "thread.start()"
   ]
  }
 ],
 "metadata": {
  "kernelspec": {
   "display_name": "Python 3 (ipykernel)",
   "language": "python",
   "name": "python3"
  },
  "language_info": {
   "codemirror_mode": {
    "name": "ipython",
    "version": 3
   },
   "file_extension": ".py",
   "mimetype": "text/x-python",
   "name": "python",
   "nbconvert_exporter": "python",
   "pygments_lexer": "ipython3",
   "version": "3.9.10"
  }
 },
 "nbformat": 4,
 "nbformat_minor": 5
}
